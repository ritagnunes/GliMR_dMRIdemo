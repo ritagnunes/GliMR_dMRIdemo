{
 "cells": [
  {
   "cell_type": "markdown",
   "metadata": {},
   "source": [
    " # Diffusion Demo <img src=\"LOGO-GliMR.png\" align=\"right\" height=\"100\" width=\"100\" >\n"
   ]
  },
  {
   "cell_type": "markdown",
   "metadata": {},
   "source": [
    "### Loading data"
   ]
  },
  {
   "cell_type": "markdown",
   "metadata": {},
   "source": [
    "Let's start by loading some dMRI data using Dipy [dipy.org](https://dipy.org/) This dataset was kindly provided by Hansen and Jespersen [Hansen2016](https://www.nature.com/articles/sdata201672) and has already been corrected for [eddy-current distortions](https://dipy.org/documentation/1.3.0./data/)."
   ]
  },
  {
   "cell_type": "code",
   "execution_count": null,
   "metadata": {},
   "outputs": [],
   "source": [
    "import dipy\n",
    "from dipy.data import get_fnames\n",
    "fraw, fbval, fbvec, t1_fname = get_fnames('cfin_multib')"
   ]
  },
  {
   "cell_type": "markdown",
   "metadata": {},
   "source": [
    "The downloaded data contains four files: 1) a NIFTI file containing dMRI data; 2) b-values list; 3) diffusion gradient directions (b-vectors); 4) T1-weighted structural NIFTI image.\n",
    "\n",
    "Below we print their paths:"
   ]
  },
  {
   "cell_type": "code",
   "execution_count": null,
   "metadata": {},
   "outputs": [],
   "source": [
    "print(fraw)\n",
    "print(fbval)\n",
    "print(fbvec)\n",
    "print(t1_fname)"
   ]
  },
  {
   "cell_type": "markdown",
   "metadata": {},
   "source": [
    "**Note:** Like many other tools, Dipy handles dMRI data in the NIFTI format. If your data is in DICOM format, you need to convert them to NIFTI using for example [dicom2nifti](https://pypi.org/project/dicom2nifti/)"
   ]
  },
  {
   "cell_type": "markdown",
   "metadata": {},
   "source": [
    "### Reading data"
   ]
  },
  {
   "cell_type": "markdown",
   "metadata": {},
   "source": [
    "1) To read the dMRI data we use Dipy's function \"load_nifti\""
   ]
  },
  {
   "cell_type": "code",
   "execution_count": null,
   "metadata": {},
   "outputs": [],
   "source": [
    "from dipy.io.image import load_nifti\n",
    "\n",
    "data, affine = load_nifti(fraw)"
   ]
  },
  {
   "cell_type": "markdown",
   "metadata": {},
   "source": [
    "2) To read the b-values and b-vectors we use Dipy's function \"read_bvals_bvecs\""
   ]
  },
  {
   "cell_type": "code",
   "execution_count": null,
   "metadata": {},
   "outputs": [],
   "source": [
    "from dipy.io.gradients import read_bvals_bvecs\n",
    "\n",
    "bvals, bvecs = read_bvals_bvecs(fbval, fbvec)"
   ]
  },
  {
   "cell_type": "markdown",
   "metadata": {},
   "source": [
    "To have a sense of the raw dMRI images let's inspect the data:"
   ]
  },
  {
   "cell_type": "code",
   "execution_count": null,
   "metadata": {},
   "outputs": [],
   "source": [
    "print(\"The shape of variable data is {}\".format(data.shape))"
   ]
  },
  {
   "cell_type": "markdown",
   "metadata": {},
   "source": [
    "dMRI data typically corresponds to a 4D matrix: three dimensions correspond to the voxel coordinates while the last coordinate corresponds to the number of diffusion-weighted volumes (496 in this case). "
   ]
  },
  {
   "cell_type": "markdown",
   "metadata": {},
   "source": [
    "Let's visualize the middle axial slice of the 158th dMRI volume."
   ]
  },
  {
   "cell_type": "code",
   "execution_count": null,
   "metadata": {},
   "outputs": [],
   "source": [
    "import matplotlib.pyplot as plt\n",
    "import numpy as np\n",
    "\n",
    "mid_sli = 9\n",
    "exp_ind = 157\n",
    "# Python indexing starts from 0 so the 158th experiment corresponds to index 157\n",
    "\n",
    "# rotating the image \n",
    "plt.imshow(np.rot90(data[:, :, mid_sli, exp_ind]), cmap='gray')"
   ]
  },
  {
   "cell_type": "markdown",
   "metadata": {},
   "source": [
    "The variable bvals contains the b-values of each dMRI volume and thus its length corresponds to the the last dimension of the dMRI data."
   ]
  },
  {
   "cell_type": "code",
   "execution_count": null,
   "metadata": {},
   "outputs": [],
   "source": [
    "print(\"The shape of variable bvals is {}\".format(bvals.shape))"
   ]
  },
  {
   "cell_type": "markdown",
   "metadata": {},
   "source": [
    "Regarding the variable bvecs, this is a 496 $\\times$ 3 matrix corresponding to the 3 coordinates of the gradient directions of all 496 experiments: "
   ]
  },
  {
   "cell_type": "code",
   "execution_count": null,
   "metadata": {},
   "outputs": [],
   "source": [
    "print(\"The shape of variable bvecs is {}\".format(bvecs.shape))"
   ]
  },
  {
   "cell_type": "markdown",
   "metadata": {},
   "source": [
    "Below we print the b-value and diffusion gradient direction used for the 158th dMRI experiment"
   ]
  },
  {
   "cell_type": "code",
   "execution_count": null,
   "metadata": {
    "scrolled": true
   },
   "outputs": [],
   "source": [
    "print(\"158th experiment was acquired with b-value={} s/mm^2\".format(bvals[exp_ind]))\n",
    "print(\"158th experiment was acquired with b-vector={}\".format(bvecs[exp_ind, :]))"
   ]
  },
  {
   "cell_type": "markdown",
   "metadata": {},
   "source": [
    "### Creating the GradientTable Object"
   ]
  },
  {
   "cell_type": "markdown",
   "metadata": {},
   "source": [
    "In DIPY, an object called \"GradientTable\" is used to summarize the diffusion acquisition parameters (b-values, b-vectors, and others if specified)."
   ]
  },
  {
   "cell_type": "code",
   "execution_count": null,
   "metadata": {},
   "outputs": [],
   "source": [
    "from dipy.core.gradients import gradient_table\n",
    "gtab = gradient_table(bvals, bvecs)"
   ]
  },
  {
   "cell_type": "markdown",
   "metadata": {},
   "source": [
    "The \"gtab\" object can be useful to quickly inspect information about the acquisition parameters. For example, the object attribute \"b0s_mask\" retrieves a boolean array in which elements with True value indicates the experiments acquired by b-value=0."
   ]
  },
  {
   "cell_type": "code",
   "execution_count": null,
   "metadata": {},
   "outputs": [],
   "source": [
    "print(gtab.b0s_mask)"
   ]
  },
  {
   "cell_type": "markdown",
   "metadata": {},
   "source": [
    "The b-values and b-vectors are also stored in the attributes gtab.bvals and gtab.bvecs respectively.\n",
    "\n",
    "Below we print again the b-value and b-vector of the 158th volume using the \"gtab\" attributes"
   ]
  },
  {
   "cell_type": "code",
   "execution_count": null,
   "metadata": {},
   "outputs": [],
   "source": [
    "print(\"158th volume was acquired with b-value={} s/mm^2\".format(gtab.bvals[exp_ind]))\n",
    "print(\"158th volume was acquired with b-vector={}\".format(gtab.bvecs[exp_ind, :]))"
   ]
  },
  {
   "cell_type": "markdown",
   "metadata": {},
   "source": [
    "Now that we are familiarized with the dMRI data format, we can for example:\n",
    "\n",
    "1) Use gtab.b0s_mask to select the dMRI data acquired with b-value=0.\n",
    "\n",
    "2) Plot the middle slice of the selected data, together with the middle slices of the data acquired of experiments 154, 158, 484, 488.\n",
    "\n",
    "3) Print the b-values and b-vectors of experiments 154, 158, 484, 488.\n"
   ]
  },
  {
   "cell_type": "code",
   "execution_count": null,
   "metadata": {},
   "outputs": [],
   "source": [
    "# Select data acquired with b-value = 0\n",
    "S0 = np.mean(data[..., gtab.b0s_mask], axis=-1)\n",
    "\n",
    "# Plot middle slice data\n",
    "plt.figure(figsize=(9, 7))\n",
    "\n",
    "plt.subplot(2, 3, 1).set_axis_off()\n",
    "plt.imshow(np.rot90(S0[..., mid_sli]), cmap='gray')\n",
    "\n",
    "plt.subplot(2, 3, 2).set_axis_off()\n",
    "plt.imshow(np.rot90(data[..., mid_sli, 153]), cmap='gray')\n",
    "\n",
    "plt.subplot(2, 3, 3).set_axis_off()\n",
    "plt.imshow(np.rot90(data[..., mid_sli, 157]), cmap='gray')\n",
    "\n",
    "plt.subplot(2, 3, 5).set_axis_off()\n",
    "plt.imshow(np.rot90(data[..., mid_sli, 483]), cmap='gray')\n",
    "\n",
    "plt.subplot(2, 3, 6).set_axis_off()\n",
    "plt.imshow(np.rot90(data[..., mid_sli, 487]), cmap='gray')\n",
    "\n",
    "plt.show()\n",
    "\n",
    "# print b-values and b-vectors\n",
    "inds = [153, 157, 483, 487]\n",
    "print(\"b-value = {} s/mm^2\".format(gtab.bvals[inds]))\n",
    "print(\"b-vectors = {} \".format(gtab.bvecs[inds]))"
   ]
  },
  {
   "cell_type": "markdown",
   "metadata": {},
   "source": [
    "### Computing the ADC map"
   ]
  },
  {
   "cell_type": "markdown",
   "metadata": {},
   "source": [
    "dMRI images depend also on the tissue relaxation times ($S=S_0 exp(-bD_{app})$). To extract the diffusion information, you can calculate the apparent diffusion coefficient (ADC) for each experiment using the following formula:\n",
    "\n",
    "$$D_{app} = -\\frac{1}{b}\\log{(\\frac{S}{S_0})} $$\n",
    "\n",
    "Let's start by:\n",
    "\n",
    "1) computing the ADC for all 496 dMRI experiments.\n",
    "\n",
    "2) plot the ADC for experiments 154, 158, 484, 488.\n",
    "\n",
    "*Note: The calculation of 𝐷𝑎𝑝𝑝 involves the division of S0 signals. In particular in the background, the division may generate infinite values. For plotting proposes, a simple brain mask can be computed using the \"median_otsu\" function from “dipy.segment.mask” "
   ]
  },
  {
   "cell_type": "code",
   "execution_count": null,
   "metadata": {},
   "outputs": [],
   "source": [
    "# Extracting a simple brain mask\n",
    "from dipy.segment.mask import median_otsu\n",
    "\n",
    "maskdata, mask = median_otsu(data, vol_idx=range(10, 50), median_radius=3,\n",
    "                             numpass=1)"
   ]
  },
  {
   "cell_type": "markdown",
   "metadata": {},
   "source": [
    "An alternative could be to use FSL's bet to carry out brain extraction.\n",
    "\n",
    "*Note: This option is commented out as it would only work if running the Jupyter notebook locally."
   ]
  },
  {
   "cell_type": "code",
   "execution_count": null,
   "metadata": {},
   "outputs": [],
   "source": [
    "# from dipy.io.image import load_nifti\n",
    "# from dipy.io.image import save_nifti\n",
    "\n",
    "# save_nifti('b0.nii.gz', S0.astype(np.float32), affine)\n",
    "\n",
    "# !bet b0 b0brain -R -Z -m\n",
    "\n",
    "# mask_bet, affine = load_nifti('b0brain_mask.nii.gz')\n"
   ]
  },
  {
   "cell_type": "code",
   "execution_count": null,
   "metadata": {
    "scrolled": true
   },
   "outputs": [],
   "source": [
    "Dapp = np.empty(data.shape)\n",
    "for vi in range(0, gtab.bvals.size):\n",
    "    S = data[..., vi] \n",
    "    b = gtab.bvals[vi]\n",
    "\n",
    "    Dapp_i = - np.log(S / S0) / b\n",
    "    Dapp_i[mask==0] = 0   \n",
    "    Dapp[..., vi] = Dapp_i\n",
    "\n",
    "# Plot middle slice data\n",
    "plt.figure(figsize=(9, 7))\n",
    "\n",
    "plt.subplot(2, 2, 1).set_axis_off()\n",
    "plt.imshow(np.rot90(Dapp[..., mid_sli, 153]), cmap='gray', vmin=0, vmax=3e-3)\n",
    "plt.title(\"b-value = {} s/mm^2\".format(gtab.bvals[153]))\n",
    "\n",
    "plt.subplot(2, 2, 2).set_axis_off()\n",
    "plt.imshow(np.rot90(Dapp[..., mid_sli, 157]), cmap='gray', vmin=0, vmax=3e-3)\n",
    "plt.title(\"b-value = {} s/mm^2\".format(gtab.bvals[157]))\n",
    "\n",
    "plt.subplot(2, 2, 3).set_axis_off()\n",
    "plt.imshow(np.rot90(Dapp[..., mid_sli, 483]), cmap='gray', vmin=0, vmax=3e-3)\n",
    "plt.title(\"b-value = {} s/mm^2\".format(gtab.bvals[483]))\n",
    "\n",
    "plt.subplot(2, 2, 4).set_axis_off()\n",
    "plt.imshow(np.rot90(Dapp[..., mid_sli, 487]), cmap='gray', vmin=0, vmax=3e-3)\n",
    "plt.title(\"b-value = {} s/mm^2\".format(gtab.bvals[487]))\n",
    "\n",
    "plt.show()"
   ]
  },
  {
   "cell_type": "markdown",
   "metadata": {},
   "source": [
    "# Diffusion Tensor Imaging"
   ]
  },
  {
   "cell_type": "markdown",
   "metadata": {},
   "source": [
    "The information captured by dMRI is multi-dimensional. Diffusion tensor imaging (DTI), a pioneering dMRI technique, was proposed to quantify diffusion anisotropy ([Basser et al. 1994](https://pubmed.ncbi.nlm.nih.gov/8130344/))."
   ]
  },
  {
   "cell_type": "markdown",
   "metadata": {},
   "source": [
    "Instead of the constant scalar ADC, DTI represents diffusion at each voxel using the second order diffusion tensor:\n",
    "\n",
    "$$\\mathbf{D} = \\begin{bmatrix} D_{xx} & D_{xy} & D_{xz} \\\\ D_{yx} & D_{yy} & D_{yz} \\\\ D_{zx} & D_{zy} & D_{zz} \\end{bmatrix} $$"
   ]
  },
  {
   "cell_type": "markdown",
   "metadata": {},
   "source": [
    "This tensor can be geometrically represented by an ellipsoid, and provides valuable information on diffusion anisotropy. As it is symmetric, only 6 free parameters ($D_{xx}$, $D_{yy}$, $D_{zz}$, $D_{xy}$, $D_{xz}$, $D_{yz}$) need to be estimated when using this signal model:\n",
    "\n",
    "$$S ( \\mathbf{n}, b) = S_0 exp(-b \\mathbf{n}^T \\mathbf{D} \\mathbf{n})$$ \n",
    "\n",
    "where $\\mathbf{n}$ is the gradient direction."
   ]
  },
  {
   "cell_type": "markdown",
   "metadata": {},
   "source": [
    "Let's see how to apply the DTI model within Dipy [dipy.org](https://dipy.org/)."
   ]
  },
  {
   "cell_type": "code",
   "execution_count": null,
   "metadata": {},
   "outputs": [],
   "source": [
    "import dipy.reconst.dti as dti"
   ]
  },
  {
   "cell_type": "markdown",
   "metadata": {},
   "source": [
    "### Selecting a subset of b-values\n",
    "\n",
    "For this example, let's select only the b-values up to 1000 s/mm²."
   ]
  },
  {
   "cell_type": "code",
   "execution_count": null,
   "metadata": {},
   "outputs": [],
   "source": [
    "bval_mask = bvals <= 1000 \n",
    "data_cropped = maskdata[:, :, :, bval_mask]\n",
    "bvals_cropped = bvals[bval_mask] \n",
    "bvecs_cropped = bvecs[bval_mask, :]\n",
    "gtab_cropped = gradient_table(bvals_cropped, bvecs_cropped, b0_threshold=0)"
   ]
  },
  {
   "cell_type": "markdown",
   "metadata": {},
   "source": [
    "Let's print the b-values and b-vectors of this dataset"
   ]
  },
  {
   "cell_type": "code",
   "execution_count": null,
   "metadata": {},
   "outputs": [],
   "source": [
    "print(\"b-value = {} s/mm^2\".format(gtab_cropped.bvals))\n",
    "print(\"b-vectors = {} \".format(gtab_cropped.bvecs))"
   ]
  },
  {
   "cell_type": "markdown",
   "metadata": {},
   "source": [
    "### DTI reconstruction\n",
    "\n",
    "Now that we have prepared the datasets we can go forward with the voxel reconstruction. In Dipy voxel reconstruction for all available dMRI techniques consist on two main steps:\n",
    "\n",
    "1) a given dMRI model is instantiated according to the data acquistion parameters. For the case of DTI, we instantiate the Tensor model in the following way:"
   ]
  },
  {
   "cell_type": "code",
   "execution_count": null,
   "metadata": {},
   "outputs": [],
   "source": [
    "dti_model = dti.TensorModel(gtab_cropped)"
   ]
  },
  {
   "cell_type": "markdown",
   "metadata": {},
   "source": [
    "2) after instantiating the model according to the data acquisition parameters, data fitting is very simple - you just need to call the  fit method of the TensorModel in the following way:"
   ]
  },
  {
   "cell_type": "code",
   "execution_count": null,
   "metadata": {},
   "outputs": [],
   "source": [
    "# let's apply it only to the two middle slices to save time\n",
    "ax_slice = data_cropped.shape[2] // 2;\n",
    "\n",
    "dti_fit = dti_model.fit(data_cropped[:, :, ax_slice:ax_slice+1, :])"
   ]
  },
  {
   "cell_type": "markdown",
   "metadata": {},
   "source": [
    "The fit method creates a TensorFit object which contains the fitting parameters and standard diffusion DTI metrics as object attributes. For instance, the mean diffusivity (MD), axial diffusivity (AD), the radial diffusivity (RD), and Fractional Anisotropy (FA) can be retrieved in the following way:"
   ]
  },
  {
   "cell_type": "code",
   "execution_count": null,
   "metadata": {},
   "outputs": [],
   "source": [
    "MD = dti_fit.md\n",
    "AD = dti_fit.ad\n",
    "RD = dti_fit.rd\n",
    "FA = dti_fit.fa"
   ]
  },
  {
   "cell_type": "markdown",
   "metadata": {},
   "source": [
    "Below we plot the MD, AD, RD and FA maps for an axial slice using matplotlib:"
   ]
  },
  {
   "cell_type": "code",
   "execution_count": null,
   "metadata": {},
   "outputs": [],
   "source": [
    "plt.figure(figsize=(9, 7))\n",
    "\n",
    "plt.subplot(2, 2, 1).set_axis_off()\n",
    "plt.imshow(np.rot90(MD[..., 0]), cmap='gray', vmin=0, vmax=3e-3)\n",
    "plt.colorbar()\n",
    "plt.title(\"MD $(mm^2/s)$\")\n",
    "\n",
    "plt.subplot(2, 2, 2).set_axis_off()\n",
    "plt.imshow(np.rot90(AD[..., 0]), cmap='gray', vmin=0, vmax=3e-3)\n",
    "plt.colorbar()\n",
    "plt.title(\"AD $(mm^2/s)$\")\n",
    "\n",
    "plt.subplot(2, 2, 3).set_axis_off()\n",
    "plt.imshow(np.rot90(RD[..., 0]), cmap='gray', vmin=0, vmax=3e-3)\n",
    "plt.colorbar()\n",
    "plt.title(\"RD $(mm^2/s)$\")\n",
    "\n",
    "plt.subplot(2, 2, 4).set_axis_off()\n",
    "plt.imshow(np.rot90(FA[..., 0]), cmap='gray', vmin=0, vmax=1)\n",
    "plt.colorbar()\n",
    "plt.title(\"FA\")\n",
    "\n",
    "plt.show()"
   ]
  },
  {
   "cell_type": "markdown",
   "metadata": {},
   "source": [
    "Dipy can also be used to produce a colour coded FA maps. In addition of indicating the anisotropy degree by the colour level intensity, these maps provide the information of the main direction of the diffusion tensor according to the following colour coding standard:\n",
    "\n",
    "1) red indicates that diffusion is higher on right-left directions\n",
    "\n",
    "2) green indicates that diffusion is higher on anterior-posterior directions\n",
    "\n",
    "3) blue indicates that diffusion is higher on inferior-superior directions\n",
    "\n",
    "The information about the main direction of the diffusion tensor can be retrieved from the diffusion tensor eigenvectors which is saved in \"dti_fit\" attribute \"evecs\". The colour coded FA map is produced in the following way:"
   ]
  },
  {
   "cell_type": "code",
   "execution_count": null,
   "metadata": {},
   "outputs": [],
   "source": [
    "from dipy.reconst.dti import color_fa\n",
    "\n",
    "FA = np.clip(FA, 0, 1)  # Just to ensure that FA values are between 0 and 1\n",
    "colored_FA = color_fa(FA, dti_fit.evecs)\n",
    "\n",
    "plt.figure(figsize=(9, 7))\n",
    "plt.subplot(1, 1, 1).set_axis_off()\n",
    "plt.imshow(np.rot90(colored_FA[:,:, 0]))\n",
    "plt.title(\"Color coded FA\")"
   ]
  },
  {
   "cell_type": "markdown",
   "metadata": {},
   "source": [
    "### Saving data"
   ]
  },
  {
   "cell_type": "markdown",
   "metadata": {},
   "source": [
    "Now that you processed the standard DTI metrics, you can saved them as NIFTI files using Dipy's save_nifti function. Here, we choose to save the DTI metrics in float32."
   ]
  },
  {
   "cell_type": "code",
   "execution_count": null,
   "metadata": {},
   "outputs": [],
   "source": [
    "from dipy.io.image import save_nifti\n",
    "\n",
    "save_nifti('tensor_md.nii.gz', MD.astype(np.float32), affine)\n",
    "save_nifti('tensor_ad.nii.gz', AD.astype(np.float32), affine)\n",
    "save_nifti('tensor_rd.nii.gz', RD.astype(np.float32), affine)\n",
    "save_nifti('tensor_fa.nii.gz', FA.astype(np.float32), affine)"
   ]
  },
  {
   "cell_type": "markdown",
   "metadata": {},
   "source": [
    "## Denoising images using the Marcenko-Pastur PCA algorithm\n",
    "The PCA-based denoising algorithm exploits the redundancy across the diffusion-weighted images [Manjon2013](https://journals.plos.org/plosone/article?id=10.1371/journal.pone.0073021), [Veraart2016a](https://pubmed.ncbi.nlm.nih.gov/27523449/). This algorithm has been shown to provide an optimal compromise between noise suppression and loss of anatomical information for different techniques such as DTI [Manjon2013](https://journals.plos.org/plosone/article?id=10.1371/journal.pone.0073021), spherical deconvolution [Veraart2016a](https://pubmed.ncbi.nlm.nih.gov/27523449/) and DKI [NetoHe2018](https://www.repository.cam.ac.uk/handle/1810/281993).\n",
    "For the sake of simplicity, we only select two non-zero b-values for this example."
   ]
  },
  {
   "cell_type": "code",
   "execution_count": null,
   "metadata": {},
   "outputs": [],
   "source": [
    "import nibabel as nib\n",
    "\n",
    "bvals = gtab.bvals\n",
    "bvecs = gtab.bvecs\n",
    "\n",
    "sel_b = np.logical_or(np.logical_or(bvals == 0, bvals == 1000), bvals == 2000)\n",
    "mid_sl = data.shape[2] // 2 \n",
    "\n",
    "#select fraction of slices to reduce computational time\n",
    "data_sel = data[:, :, mid_sl-3 : mid_sl+3, sel_b]\n",
    "mask_sel = mask[:, :, mid_sl-3 : mid_sl+3]\n",
    "gtab_sel = gradient_table(bvals[sel_b], bvecs[sel_b])"
   ]
  },
  {
   "cell_type": "markdown",
   "metadata": {},
   "source": [
    "The PCA denoising using the Marcenko-Pastur distribution can be performed by calling the function \"mppca\" from \"dipy.denoise.localpca\" (this can take some time to run)"
   ]
  },
  {
   "cell_type": "code",
   "execution_count": null,
   "metadata": {},
   "outputs": [],
   "source": [
    "from dipy.denoise.localpca import mppca\n",
    "\n",
    "denoised_arr, sigma = mppca(data_sel, patch_radius=2, return_sigma=True)"
   ]
  },
  {
   "cell_type": "markdown",
   "metadata": {},
   "source": [
    "Internally, the mppca algorithm denoises the diffusion-weighted data using a 3D sliding window which is defined by the variable patch_radius. In total, this window should comprise a larger number of voxels than the number of diffusion-weighted volumes. Since our data has a total of 67 volumes, the patch_radius is set to 2 which corresponds to a 5x5x5 sliding window comprising a total of 125 voxels.\n",
    "\n",
    "To assess the performance of the Marcenko-Pastur PCA denosing algorithm, an axial slice of the original data, denoised data, and residuals are plotted below:"
   ]
  },
  {
   "cell_type": "code",
   "execution_count": null,
   "metadata": {},
   "outputs": [],
   "source": [
    "sli = data_sel.shape[2] // 2\n",
    "gra = data_sel.shape[3] - 1\n",
    "orig = data_sel[:, :, sli, gra]\n",
    "den = denoised_arr[:, :, sli, gra]\n",
    "rms_diff = np.sqrt((orig - den) ** 2)\n",
    "\n",
    "fig1, ax = plt.subplots(1, 3, figsize=(12, 6),\n",
    "                        subplot_kw={'xticks': [], 'yticks': []})\n",
    "\n",
    "fig1.subplots_adjust(hspace=0.3, wspace=0.05)\n",
    "\n",
    "ax.flat[0].imshow(orig.T, cmap='gray', interpolation='none',\n",
    "                  origin='lower',  vmin=0, vmax=80)\n",
    "ax.flat[0].set_title('Original')\n",
    "ax.flat[1].imshow(den.T, cmap='gray', interpolation='none',\n",
    "                  origin='lower', vmin=0, vmax=80)\n",
    "ax.flat[1].set_title('Denoised Output')\n",
    "ax.flat[2].imshow(rms_diff.T, cmap='gray', interpolation='none',\n",
    "                  origin='lower', vmin=-10, vmax=10)\n",
    "ax.flat[2].set_title('Residuals')\n",
    "\n",
    "fig1.savefig('denoised_mppca.png')\n",
    "\n",
    "print(\"The result saved in denoised_mppca.png\")"
   ]
  },
  {
   "cell_type": "markdown",
   "metadata": {},
   "source": [
    "Let's see how the PCA denoising algorithm affects different diffusion measurements"
   ]
  },
  {
   "cell_type": "code",
   "execution_count": null,
   "metadata": {},
   "outputs": [],
   "source": [
    "import dipy.reconst.dki as dki\n",
    "dkimodel = dki.DiffusionKurtosisModel(gtab_sel)\n",
    "\n",
    "dki_orig = dkimodel.fit(data_sel, mask=mask_sel)\n",
    "dki_den = dkimodel.fit(denoised_arr, mask=mask_sel)\n",
    "\n",
    "FA_orig = dki_orig.fa\n",
    "FA_den = dki_den.fa\n",
    "MD_orig = dki_orig.md\n",
    "MD_den = dki_den.md\n",
    "MK_orig = dki_orig.mk(0, 3)\n",
    "MK_den = dki_den.mk(0, 3)\n",
    "\n",
    "fig2, ax = plt.subplots(2, 3, figsize=(10, 6),\n",
    "                        subplot_kw={'xticks': [], 'yticks': []})\n",
    "\n",
    "fig2.subplots_adjust(hspace=0.3, wspace=0.03)\n",
    "\n",
    "ax.flat[0].imshow(MD_orig[:, :, sli].T, cmap='gray', vmin=0, vmax=2.0e-3,\n",
    "                  origin='lower')\n",
    "ax.flat[0].set_title('MD (DKI)')\n",
    "ax.flat[1].imshow(FA_orig[:, :, sli].T, cmap='gray', vmin=0, vmax=0.7,\n",
    "                  origin='lower')\n",
    "ax.flat[1].set_title('FA (DKI)')\n",
    "ax.flat[2].imshow(MK_orig[:, :, sli].T, cmap='gray', vmin=0, vmax=1.5,\n",
    "                  origin='lower')\n",
    "ax.flat[2].set_title('AD (DKI)')\n",
    "ax.flat[3].imshow(MD_den[:, :, sli].T, cmap='gray', vmin=0, vmax=2.0e-3,\n",
    "                  origin='lower')\n",
    "ax.flat[3].set_title('MD (DKI)')\n",
    "ax.flat[4].imshow(FA_den[:, :, sli].T, cmap='gray', vmin=0, vmax=0.7,\n",
    "                  origin='lower')\n",
    "ax.flat[4].set_title('FA (DKI)')\n",
    "ax.flat[5].imshow(MK_den[:, :, sli].T, cmap='gray', vmin=0, vmax=1.5,\n",
    "                  origin='lower')\n",
    "ax.flat[5].set_title('AD (DKI)')\n",
    "plt.show()\n",
    "fig2.savefig('denoised_dki.png')\n",
    "\n",
    "print(\"The result saved in denoised_dki.png\")"
   ]
  },
  {
   "cell_type": "markdown",
   "metadata": {},
   "source": [
    "### Noise standard deviation estimation using the Marcenko-Pastur PCA algorithm\n",
    "the Marcenko-Pastur PCA algorithm can also be used to estimate the image’s noise standard deviation (std). The noise std automatically computed from the mppca function can be returned by setting the optional input parameter return_sigma to True."
   ]
  },
  {
   "cell_type": "code",
   "execution_count": null,
   "metadata": {},
   "outputs": [],
   "source": [
    "plt.figure('PCA Noise standard deviation estimation')\n",
    "plt.imshow(sigma[..., sli].T, cmap='gray', origin='lower')\n",
    "plt.axis('off')\n",
    "plt.show()"
   ]
  },
  {
   "cell_type": "markdown",
   "metadata": {},
   "source": [
    "The above figure shows that the Marcenko-Pastur PCA algorithm computes a 3D spatial varying noise level map. To obtain the mean noise std across all voxels, you can use the following lines of code:"
   ]
  },
  {
   "cell_type": "code",
   "execution_count": null,
   "metadata": {},
   "outputs": [],
   "source": [
    "mean_sigma = np.mean(sigma[mask_sel])"
   ]
  },
  {
   "cell_type": "markdown",
   "metadata": {},
   "source": [
    "Below we use this mean noise level estimate to compute the data’s nominal SNR (i.e. SNR at b-value=0):"
   ]
  },
  {
   "cell_type": "code",
   "execution_count": null,
   "metadata": {},
   "outputs": [],
   "source": [
    "b0 = denoised_arr[..., 0]\n",
    "\n",
    "mean_signal = np.mean(b0[mask_sel])\n",
    "\n",
    "snr = mean_signal / mean_sigma\n",
    "\n",
    "print(snr)"
   ]
  },
  {
   "cell_type": "markdown",
   "metadata": {},
   "source": [
    "### Suppressing Gibbs oscillations\n",
    "Magnetic Resonance (MR) images are reconstructed from the Fourier coefficients of acquired k-space images. Since only a finite number of Fourier coefficients can be acquired in practice, reconstructed MR images can be corrupted by Gibbs artefacts, which is manifested by intensity oscillations adjacent to edges of different tissues types. Although this artefact affects MR images in general, in the context of diffusion-weighted imaging, Gibbs oscillations can be magnified in derived diffusion-based estimates ([Veraart et al., 2015](https://doi.org/10.1002/mrm.25866), [Perrone et al., 2015](https://doi.org/10.1016/j.neuroimage.2015.06.068)).\n",
    "\n",
    "In the following example, we show how to suppress Gibbs artefacts of MR images. This algorithm is based on an adapted version of a sub-voxel Gibbs suppression procedure ([Kellner et al., 2016]( https://doi.org/10.1002/mrm.26054)).\n",
    "\n",
    "The algorithm to suppress Gibbs oscillations can be imported from the denoise module of dipy:"
   ]
  },
  {
   "cell_type": "code",
   "execution_count": null,
   "metadata": {},
   "outputs": [],
   "source": [
    "from dipy.denoise.gibbs import gibbs_removal"
   ]
  },
  {
   "cell_type": "markdown",
   "metadata": {},
   "source": [
    "Let's look at another example this time."
   ]
  },
  {
   "cell_type": "code",
   "execution_count": null,
   "metadata": {},
   "outputs": [],
   "source": [
    "from dipy.data import read_cenir_multib\n",
    "\n",
    "bvals = [200, 400, 1000, 2000]\n",
    "\n",
    "img, gtab = read_cenir_multib(bvals)\n",
    "\n",
    "data = img.get_fdata()\n",
    "\n",
    "data_slices = data[:, :, 40:42, :]"
   ]
  },
  {
   "cell_type": "markdown",
   "metadata": {},
   "source": [
    "Gibbs oscillation suppression of all multi-shell data and all slices can be performed in the following way:"
   ]
  },
  {
   "cell_type": "code",
   "execution_count": null,
   "metadata": {},
   "outputs": [],
   "source": [
    "data_corrected = gibbs_removal(data_slices, slice_axis=2)"
   ]
  },
  {
   "cell_type": "markdown",
   "metadata": {},
   "source": [
    "Due to the high dimensionality of diffusion-weighted data, we recommend that you specify which is the axis of data matrix that corresponds to different slices in the above step. This is done by using the optional parameter ‘slice_axis’.\n",
    "\n",
    "Below we plot the results for an image acquired with b-value=0:"
   ]
  },
  {
   "cell_type": "code",
   "execution_count": null,
   "metadata": {},
   "outputs": [],
   "source": [
    "fig2, ax = plt.subplots(1, 3, figsize=(12, 6),\n",
    "                        subplot_kw={'xticks': [], 'yticks': []})\n",
    "\n",
    "ax.flat[0].imshow(data_slices[:, :, 0, 0].T, cmap='gray', origin='lower',\n",
    "                  vmin=0, vmax=10000)\n",
    "ax.flat[0].set_title('Uncorrected b0')\n",
    "ax.flat[1].imshow(data_corrected[:, :, 0, 0].T, cmap='gray',\n",
    "                  origin='lower', vmin=0, vmax=10000)\n",
    "ax.flat[1].set_title('Corrected b0')\n",
    "ax.flat[2].imshow(data_corrected[:, :, 0, 0].T - data_slices[:, :, 0, 0].T,\n",
    "                  cmap='gray', origin='lower', vmin=-500, vmax=500)\n",
    "ax.flat[2].set_title('Gibbs residuals')\n",
    "\n",
    "plt.show()\n",
    "fig2.savefig('Gibbs_suppression_b0.png')\n",
    "\n",
    "print(data_corrected[48, 48, 0, 0])\n",
    "print(data_slices[48, 48, 0, 0])\n"
   ]
  },
  {
   "cell_type": "markdown",
   "metadata": {},
   "source": [
    "The above figure shows that the benefits of suppressing Gibbs artefacts is hard to observe on b-value=0 data. Therefore, diffusion derived metrics for both uncorrected and corrected data are computed using the mean signal diffusion kurtosis image technique."
   ]
  },
  {
   "cell_type": "code",
   "execution_count": null,
   "metadata": {},
   "outputs": [],
   "source": [
    "# Define mean signal diffusion kurtosis model\n",
    "import dipy.reconst.msdki as msdki\n",
    "\n",
    "dki_model = msdki.MeanDiffusionKurtosisModel(gtab)\n",
    "\n",
    "# Create a brain mask\n",
    "from dipy.segment.mask import median_otsu\n",
    "\n",
    "maskdata, mask = median_otsu(data_slices, vol_idx=range(10, 50),\n",
    "                             median_radius=7, numpass=1, autocrop=False,\n",
    "                             dilate=2)\n",
    "# Fit the uncorrected data\n",
    "dki_fit = dki_model.fit(data_slices, mask=mask)\n",
    "MSKini = dki_fit.msk\n",
    "\n",
    "# Fit the corrected data\n",
    "dki_fit = dki_model.fit(data_corrected, mask=mask)\n",
    "MSKgib = dki_fit.msk"
   ]
  },
  {
   "cell_type": "markdown",
   "metadata": {},
   "source": [
    "Let’s plot the results:"
   ]
  },
  {
   "cell_type": "code",
   "execution_count": null,
   "metadata": {},
   "outputs": [],
   "source": [
    "fig3, ax = plt.subplots(1, 3, figsize=(12, 12),\n",
    "                        subplot_kw={'xticks': [], 'yticks': []})\n",
    "\n",
    "ax.flat[0].imshow(MSKini[:, :, 0].T, cmap='gray', origin='lower',\n",
    "                  vmin=0, vmax=1.5)\n",
    "ax.flat[0].set_title('MSK (uncorrected)')\n",
    "ax.flat[0].annotate('Rings', fontsize=12, xy=(59, 63),\n",
    "                    color='red',\n",
    "                    xycoords='data', xytext=(45, 0),\n",
    "                    textcoords='offset points',\n",
    "                    arrowprops=dict(arrowstyle=\"->\",\n",
    "                                    color='red'))\n",
    "\n",
    "ax.flat[1].imshow(MSKgib[:, :, 0].T, cmap='gray', origin='lower',\n",
    "                  vmin=0, vmax=1.5)\n",
    "ax.flat[1].set_title('MSK (corrected)')\n",
    "\n",
    "ax.flat[2].imshow(MSKgib[:, :, 0].T - MSKini[:, :, 0].T, cmap='gray',\n",
    "                  origin='lower', vmin=-0.2, vmax=0.2)\n",
    "ax.flat[2].set_title('MSK (uncorrected - corrected')\n",
    "ax.flat[2].annotate('Rings', fontsize=12, xy=(59, 63),\n",
    "                    color='red',\n",
    "                    xycoords='data', xytext=(45, 0),\n",
    "                    textcoords='offset points',\n",
    "                    arrowprops=dict(arrowstyle=\"->\",\n",
    "                                    color='red'))\n",
    "\n",
    "plt.show()\n",
    "fig3.savefig('Gibbs_suppression_msdki.png')"
   ]
  },
  {
   "cell_type": "code",
   "execution_count": null,
   "metadata": {},
   "outputs": [],
   "source": []
  }
 ],
 "metadata": {
  "kernelspec": {
   "display_name": "Python 3",
   "language": "python",
   "name": "python3"
  },
  "language_info": {
   "codemirror_mode": {
    "name": "ipython",
    "version": 3
   },
   "file_extension": ".py",
   "mimetype": "text/x-python",
   "name": "python",
   "nbconvert_exporter": "python",
   "pygments_lexer": "ipython3",
   "version": "3.8.5"
  }
 },
 "nbformat": 4,
 "nbformat_minor": 4
}
