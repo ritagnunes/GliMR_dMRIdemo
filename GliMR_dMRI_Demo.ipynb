{
 "cells": [
  {
   "cell_type": "markdown",
   "metadata": {},
   "source": [
    " # Diffusion Demo <img src=\"LOGO-GliMR.png\" align=\"right\" height=\"100\" width=\"100\" >\n"
   ]
  },
  {
   "cell_type": "markdown",
   "metadata": {},
   "source": [
    "### Loading data"
   ]
  },
  {
   "cell_type": "markdown",
   "metadata": {},
   "source": [
    "Let's start by loading some dMRI data using Dipy [dipy.org](https://dipy.org/) This dataset was kindly provided by Hansen and Jespersen [Hansen2016](https://www.nature.com/articles/sdata201672) and has already been corrected for [eddy-current distortions](https://dipy.org/documentation/1.3.0./data/)."
   ]
  },
  {
   "cell_type": "code",
   "execution_count": null,
   "metadata": {},
   "outputs": [],
   "source": [
    "import dipy\n",
    "from dipy.data import get_fnames\n",
    "fraw, fbval, fbvec, t1_fname = get_fnames('cfin_multib')"
   ]
  },
  {
   "cell_type": "markdown",
   "metadata": {},
   "source": [
    "The downloaded data contains four files: 1) a NIFTI file containing dMRI data; 2) b-values list; 3) diffusion gradient directions (b-vectors); 4) T1-weighted structural NIFTI image.\n",
    "\n",
    "Below we print their paths:"
   ]
  },
  {
   "cell_type": "code",
   "execution_count": null,
   "metadata": {},
   "outputs": [],
   "source": [
    "print(fraw)\n",
    "print(fbval)\n",
    "print(fbvec)\n",
    "print(t1_fname)"
   ]
  },
  {
   "cell_type": "markdown",
   "metadata": {},
   "source": [
    "**Note:** Like many other tools, Dipy handles dMRI data in the NIFTI format. If your data is in DICOM format, you need to convert them to NIFTI using for example [dicom2nifti](https://pypi.org/project/dicom2nifti/)"
   ]
  },
  {
   "cell_type": "markdown",
   "metadata": {},
   "source": [
    "### Reading data"
   ]
  },
  {
   "cell_type": "markdown",
   "metadata": {},
   "source": [
    "1) To read the dMRI data we use Dipy's function \"load_nifti\""
   ]
  },
  {
   "cell_type": "code",
   "execution_count": null,
   "metadata": {},
   "outputs": [],
   "source": [
    "from dipy.io.image import load_nifti\n",
    "\n",
    "data, affine = load_nifti(fraw)"
   ]
  },
  {
   "cell_type": "markdown",
   "metadata": {},
   "source": [
    "2) To read the b-values and b-vectors we use Dipy's function \"read_bvals_bvecs\""
   ]
  },
  {
   "cell_type": "code",
   "execution_count": null,
   "metadata": {},
   "outputs": [],
   "source": [
    "from dipy.io.gradients import read_bvals_bvecs\n",
    "\n",
    "bvals, bvecs = read_bvals_bvecs(fbval, fbvec)"
   ]
  },
  {
   "cell_type": "markdown",
   "metadata": {},
   "source": [
    "To have a sense of the raw dMRI images let's inspect the data:"
   ]
  },
  {
   "cell_type": "code",
   "execution_count": null,
   "metadata": {},
   "outputs": [],
   "source": [
    "print(\"The shape of variable data is {}\".format(data.shape))"
   ]
  },
  {
   "cell_type": "markdown",
   "metadata": {},
   "source": [
    "dMRI data typically corresponds to a 4D matrix: three dimensions correspond to the voxel coordinates while the last coordinate corresponds to the number of diffusion-weighted volumes (496 in this case). "
   ]
  },
  {
   "cell_type": "markdown",
   "metadata": {},
   "source": [
    "Let's visualize the middle axial slice of the 158th dMRI volume."
   ]
  },
  {
   "cell_type": "code",
   "execution_count": null,
   "metadata": {},
   "outputs": [],
   "source": [
    "import matplotlib.pyplot as plt\n",
    "import numpy as np\n",
    "\n",
    "mid_sli = 9\n",
    "exp_ind = 157\n",
    "# Python indexing starts from 0 so the 158th experiment corresponds to index 157\n",
    "\n",
    "# rotating the image \n",
    "plt.imshow(np.rot90(data[:, :, mid_sli, exp_ind]), cmap='gray')"
   ]
  },
  {
   "cell_type": "markdown",
   "metadata": {},
   "source": [
    "The variable bvals contains the b-values of each dMRI volume and thus its length corresponds to the the last dimension of the dMRI data."
   ]
  },
  {
   "cell_type": "code",
   "execution_count": null,
   "metadata": {},
   "outputs": [],
   "source": [
    "print(\"The shape of variable bvals is {}\".format(bvals.shape))"
   ]
  },
  {
   "cell_type": "markdown",
   "metadata": {},
   "source": [
    "Regarding the variable bvecs, this is a 496 $\\times$ 3 matrix corresponding to the 3 coordinates of the gradient directions of all 496 experiments: "
   ]
  },
  {
   "cell_type": "code",
   "execution_count": null,
   "metadata": {},
   "outputs": [],
   "source": [
    "print(\"The shape of variable bvecs is {}\".format(bvecs.shape))"
   ]
  },
  {
   "cell_type": "markdown",
   "metadata": {},
   "source": [
    "Below we print the b-value and diffusion gradient direction used for the 158th dMRI experiment"
   ]
  },
  {
   "cell_type": "code",
   "execution_count": null,
   "metadata": {
    "scrolled": true
   },
   "outputs": [],
   "source": [
    "print(\"158th experiment was acquired with b-value={} s/mm^2\".format(bvals[exp_ind]))\n",
    "print(\"158th experiment was acquired with b-vector={}\".format(bvecs[exp_ind, :]))"
   ]
  },
  {
   "cell_type": "markdown",
   "metadata": {},
   "source": [
    "### Creating the GradientTable Object"
   ]
  },
  {
   "cell_type": "markdown",
   "metadata": {},
   "source": [
    "In DIPY, an object called \"GradientTable\" is used to summarize the diffusion acquisition parameters (b-values, b-vectors, and others if specified)."
   ]
  },
  {
   "cell_type": "code",
   "execution_count": null,
   "metadata": {},
   "outputs": [],
   "source": [
    "from dipy.core.gradients import gradient_table\n",
    "gtab = gradient_table(bvals, bvecs)"
   ]
  },
  {
   "cell_type": "markdown",
   "metadata": {},
   "source": [
    "The \"gtab\" object can be useful to quickly inspect information about the acquisition parameters. For example, the object attribute \"b0s_mask\" retrieves a boolean array in which elements with True value indicates the experiments acquired by b-value=0."
   ]
  },
  {
   "cell_type": "code",
   "execution_count": null,
   "metadata": {},
   "outputs": [],
   "source": [
    "print(gtab.b0s_mask)"
   ]
  },
  {
   "cell_type": "markdown",
   "metadata": {},
   "source": [
    "The b-values and b-vectors are also stored in the attributes gtab.bvals and gtab.bvecs respectively.\n",
    "\n",
    "Below we print again the b-value and b-vector of the 158th volume using the \"gtab\" attributes"
   ]
  },
  {
   "cell_type": "code",
   "execution_count": null,
   "metadata": {},
   "outputs": [],
   "source": [
    "print(\"158th volume was acquired with b-value={} s/mm^2\".format(gtab.bvals[exp_ind]))\n",
    "print(\"158th volume was acquired with b-vector={}\".format(gtab.bvecs[exp_ind, :]))"
   ]
  },
  {
   "cell_type": "markdown",
   "metadata": {},
   "source": [
    "Now that we are familiarized with the dMRI data format, we can for example:\n",
    "\n",
    "1) Use gtab.b0s_mask to select the dMRI data acquired with b-value=0.\n",
    "\n",
    "2) Plot the middle slice of the selected data, together with the middle slices of the data acquired of experiments 154, 158, 484, 488.\n",
    "\n",
    "3) Print the b-values and b-vectors of experiments 154, 158, 484, 488.\n"
   ]
  },
  {
   "cell_type": "code",
   "execution_count": null,
   "metadata": {},
   "outputs": [],
   "source": [
    "import numpy as np\n",
    "\n",
    "# Select data acquired with b-value = 0\n",
    "S0 = np.mean(data[..., gtab.b0s_mask], axis=-1)\n",
    "\n",
    "# Plot middle slice data\n",
    "plt.figure(figsize=(9, 7))\n",
    "\n",
    "plt.subplot(2, 3, 1).set_axis_off()\n",
    "plt.imshow(np.rot90(S0[..., mid_sli]), cmap='gray')\n",
    "\n",
    "plt.subplot(2, 3, 2).set_axis_off()\n",
    "plt.imshow(np.rot90(data[..., mid_sli, 153]), cmap='gray')\n",
    "\n",
    "plt.subplot(2, 3, 3).set_axis_off()\n",
    "plt.imshow(np.rot90(data[..., mid_sli, 157]), cmap='gray')\n",
    "\n",
    "plt.subplot(2, 3, 5).set_axis_off()\n",
    "plt.imshow(np.rot90(data[..., mid_sli, 483]), cmap='gray')\n",
    "\n",
    "plt.subplot(2, 3, 6).set_axis_off()\n",
    "plt.imshow(np.rot90(data[..., mid_sli, 487]), cmap='gray')\n",
    "\n",
    "plt.show()\n",
    "\n",
    "# print b-values and b-vectors\n",
    "inds = [153, 157, 483, 487]\n",
    "print(\"b-value = {} s/mm^2\".format(gtab.bvals[inds]))\n",
    "print(\"b-vectors = {} \".format(gtab.bvecs[inds]))"
   ]
  },
  {
   "cell_type": "markdown",
   "metadata": {},
   "source": [
    "### Computing the ADC map"
   ]
  },
  {
   "cell_type": "markdown",
   "metadata": {},
   "source": [
    "dMRI images depend also on the tissue relaxation times ($S=S_0 exp(-bD_{app})$). To extract the diffusion information, you can calculate the apparent diffusion coefficient (ADC) for each experiment using the following formula:\n",
    "\n",
    "$$D_{app} = -\\frac{1}{b}\\log{(\\frac{S}{S_0})} $$\n",
    "\n",
    "Let's start by:\n",
    "\n",
    "1) computing the ADC for all 496 dMRI experiments.\n",
    "\n",
    "2) plot the ADC for experiments 154, 158, 484, 488.\n",
    "\n",
    "*Note: The calculation of 𝐷𝑎𝑝𝑝 involves the division of S0 signals. In particular in the background, the division may generate infinite values. For plotting proposes, a simple brain mask can be computed using the \"median_otsu\" function from “dipy.segment.mask” "
   ]
  },
  {
   "cell_type": "code",
   "execution_count": null,
   "metadata": {},
   "outputs": [],
   "source": [
    "# Extracting a simple brain mask\n",
    "from dipy.segment.mask import median_otsu\n",
    "\n",
    "maskdata, mask = median_otsu(data, vol_idx=range(10, 50), median_radius=3,\n",
    "                             numpass=1)"
   ]
  },
  {
   "cell_type": "markdown",
   "metadata": {},
   "source": [
    "An alternative could be to use FSL's bet to carry out brain extraction.\n",
    "\n",
    "*Note: This option is commented out as it would only work if running the Jupyter notebook locally."
   ]
  },
  {
   "cell_type": "code",
   "execution_count": null,
   "metadata": {},
   "outputs": [],
   "source": [
    "# from dipy.io.image import load_nifti\n",
    "# from dipy.io.image import save_nifti\n",
    "\n",
    "# save_nifti('b0.nii.gz', S0.astype(np.float32), affine)\n",
    "\n",
    "# !bet b0 b0brain -R -Z -m\n",
    "\n",
    "# mask_bet, affine = load_nifti('b0brain_mask.nii.gz')\n"
   ]
  },
  {
   "cell_type": "code",
   "execution_count": null,
   "metadata": {
    "scrolled": true
   },
   "outputs": [],
   "source": [
    "import numpy as np\n",
    "\n",
    "Dapp = np.empty(data.shape)\n",
    "for vi in range(0, gtab.bvals.size):\n",
    "    S = data[..., vi] \n",
    "    b = gtab.bvals[vi]\n",
    "\n",
    "    Dapp_i = - np.log(S / S0) / b\n",
    "    Dapp_i[mask==0] = 0   \n",
    "    Dapp[..., vi] = Dapp_i\n",
    "\n",
    "# Plot middle slice data\n",
    "plt.figure(figsize=(9, 7))\n",
    "\n",
    "plt.subplot(2, 2, 1).set_axis_off()\n",
    "plt.imshow(np.rot90(Dapp[..., mid_sli, 153]), cmap='gray', vmin=0, vmax=3e-3)\n",
    "plt.title(\"b-value = {} s/mm^2\".format(gtab.bvals[153]))\n",
    "\n",
    "plt.subplot(2, 2, 2).set_axis_off()\n",
    "plt.imshow(np.rot90(Dapp[..., mid_sli, 157]), cmap='gray', vmin=0, vmax=3e-3)\n",
    "plt.title(\"b-value = {} s/mm^2\".format(gtab.bvals[157]))\n",
    "\n",
    "plt.subplot(2, 2, 3).set_axis_off()\n",
    "plt.imshow(np.rot90(Dapp[..., mid_sli, 483]), cmap='gray', vmin=0, vmax=3e-3)\n",
    "plt.title(\"b-value = {} s/mm^2\".format(gtab.bvals[483]))\n",
    "\n",
    "plt.subplot(2, 2, 4).set_axis_off()\n",
    "plt.imshow(np.rot90(Dapp[..., mid_sli, 487]), cmap='gray', vmin=0, vmax=3e-3)\n",
    "plt.title(\"b-value = {} s/mm^2\".format(gtab.bvals[487]))\n",
    "\n",
    "plt.show()\n"
   ]
  },
  {
   "cell_type": "markdown",
   "metadata": {},
   "source": [
    "# Diffusion Tensor Imaging"
   ]
  },
  {
   "cell_type": "markdown",
   "metadata": {},
   "source": [
    "The information captured by dMRI is multi-dimensional. Diffusion tensor imaging (DTI), a pioneering dMRI technique, was proposed to quantify diffusion anisotropy ([Basser et al. 1994](https://pubmed.ncbi.nlm.nih.gov/8130344/))."
   ]
  },
  {
   "cell_type": "markdown",
   "metadata": {},
   "source": [
    "Instead of the constant scalar ADC, DTI represents diffusion at each voxel using the second order diffusion tensor:\n",
    "\n",
    "$$\\mathbf{D} = \\begin{bmatrix} D_{xx} & D_{xy} & D_{xz} \\\\ D_{yx} & D_{yy} & D_{yz} \\\\ D_{zx} & D_{zy} & D_{zz} \\end{bmatrix} $$"
   ]
  },
  {
   "cell_type": "markdown",
   "metadata": {},
   "source": [
    "This tensor can be geometrically represented by an ellipsoid, and provides valuable information on diffusion anisotropy. As it is symmetric, only 6 free parameters ($D_{xx}$, $D_{yy}$, $D_{zz}$, $D_{xy}$, $D_{xz}$, $D_{yz}$) need to be estimated when using this signal model:\n",
    "\n",
    "$$S ( \\mathbf{n}, b) = S_0 exp(-b \\mathbf{n}^T \\mathbf{D} \\mathbf{n})$$ \n",
    "\n",
    "where $\\mathbf{n}$ is the gradient direction."
   ]
  },
  {
   "cell_type": "markdown",
   "metadata": {},
   "source": [
    "Let's see how to apply the DTI model within Dipy [dipy.org](https://dipy.org/)."
   ]
  },
  {
   "cell_type": "code",
   "execution_count": null,
   "metadata": {},
   "outputs": [],
   "source": [
    "import dipy.reconst.dti as dti"
   ]
  },
  {
   "cell_type": "markdown",
   "metadata": {},
   "source": [
    "### Load and read a sample dMRI dataset\n",
    "\n",
    "For this example, let's load a dMRI dataset that was acquired at the Stanford University."
   ]
  },
  {
   "cell_type": "code",
   "execution_count": null,
   "metadata": {},
   "outputs": [],
   "source": [
    "from dipy.data import get_fnames\n",
    "\n",
    "hardi_fname, hardi_bval_fname, hardi_bvec_fname = get_fnames('stanford_hardi')"
   ]
  },
  {
   "cell_type": "markdown",
   "metadata": {},
   "source": [
    "Next, we read the downloaded dataset."
   ]
  },
  {
   "cell_type": "code",
   "execution_count": null,
   "metadata": {},
   "outputs": [],
   "source": [
    "from dipy.io.image import load_nifti\n",
    "from dipy.io.gradients import read_bvals_bvecs\n",
    "\n",
    "data, affine = load_nifti(hardi_fname)\n",
    "bvals, bvecs = read_bvals_bvecs(hardi_bval_fname, hardi_bvec_fname)"
   ]
  },
  {
   "cell_type": "markdown",
   "metadata": {},
   "source": [
    "Let's now extract the corresponding GradientTable object according to the loaded b-values and b-vectors."
   ]
  },
  {
   "cell_type": "code",
   "execution_count": null,
   "metadata": {},
   "outputs": [],
   "source": [
    "from dipy.core.gradients import gradient_table\n",
    "gtab = gradient_table(bvals, bvecs)"
   ]
  },
  {
   "cell_type": "markdown",
   "metadata": {},
   "source": [
    "Let's print the b-values and b-vectors of this dataset"
   ]
  },
  {
   "cell_type": "code",
   "execution_count": null,
   "metadata": {},
   "outputs": [],
   "source": [
    "print(\"b-value = {} s/mm^2\".format(gtab.bvals))\n",
    "print(\"b-vectors = {} \".format(gtab.bvecs))"
   ]
  },
  {
   "cell_type": "markdown",
   "metadata": {},
   "source": [
    "From the information saved in bvals and bvecs, one can note that this dataset was acquired based on a single non-zero b-value along different diffusion gradient direction. This type of single non-zero b-value acquisition are typically refered to as single-shell acquisitions.\n",
    "\n",
    "### Generate a brain mask\n",
    "\n",
    "To avoid computation on the background of the image, we generate a brain mask using DIPY's mask module:"
   ]
  },
  {
   "cell_type": "code",
   "execution_count": null,
   "metadata": {},
   "outputs": [],
   "source": [
    "from dipy.segment.mask import median_otsu\n",
    "\n",
    "maskdata, mask = median_otsu(data, vol_idx=range(0, 9),\n",
    "                             numpass=1, dilate=5)"
   ]
  },
  {
   "cell_type": "markdown",
   "metadata": {},
   "source": [
    "### DTI reconstruction\n",
    "\n",
    "Now that we have prepared the datasets we can go forward with the voxel reconstruction. In Dipy voxel reconstruction for all available dMRI techniques consist on two main steps:\n",
    "\n",
    "1) a given dMRI model is instantiated according to the data acquistion parameters. For the case of DTI, we instantiate the Tensor model in the following way:"
   ]
  },
  {
   "cell_type": "code",
   "execution_count": null,
   "metadata": {},
   "outputs": [],
   "source": [
    "dti_model = dti.TensorModel(gtab)"
   ]
  },
  {
   "cell_type": "markdown",
   "metadata": {},
   "source": [
    "2) after instantiating the model according to the data acquisition parameters, data fitting is very simple - you just need to call the  fit method of the TensorModel in the following way:"
   ]
  },
  {
   "cell_type": "code",
   "execution_count": null,
   "metadata": {},
   "outputs": [],
   "source": [
    "# let's apply it only to the two middle slices to save time\n",
    "ax_slice = maskdata.shape[2] // 2;\n",
    "\n",
    "dti_fit = dti_model.fit(maskdata[:, :, ax_slice:ax_slice+1, :])"
   ]
  },
  {
   "cell_type": "markdown",
   "metadata": {},
   "source": [
    "The fit method creates a TensorFit object which contains the fitting parameters and standard diffusion DTI metrics as object attributes. For instance, the mean diffusivity (MD), axial diffusivity (AD), the radial diffusivity (RD), and Fractional Anisotropy (FA) can be retrieved in the following way:"
   ]
  },
  {
   "cell_type": "code",
   "execution_count": null,
   "metadata": {},
   "outputs": [],
   "source": [
    "MD = dti_fit.md\n",
    "AD = dti_fit.ad\n",
    "RD = dti_fit.rd\n",
    "FA = dti_fit.fa"
   ]
  },
  {
   "cell_type": "markdown",
   "metadata": {},
   "source": [
    "Below we plot the MD, AD, RD and FA maps for an axial slice using matplotlib:"
   ]
  },
  {
   "cell_type": "code",
   "execution_count": null,
   "metadata": {},
   "outputs": [],
   "source": [
    "import matplotlib.pyplot as plt\n",
    "import numpy as np\n",
    "\n",
    "plt.figure(figsize=(9, 7))\n",
    "\n",
    "plt.subplot(2, 2, 1).set_axis_off()\n",
    "plt.imshow(np.rot90(MD[..., 0]), cmap='gray', vmin=0, vmax=3e-3)\n",
    "plt.colorbar()\n",
    "plt.title(\"MD $(mm^2/s)$\")\n",
    "\n",
    "plt.subplot(2, 2, 2).set_axis_off()\n",
    "plt.imshow(np.rot90(AD[..., 0]), cmap='gray', vmin=0, vmax=3e-3)\n",
    "plt.colorbar()\n",
    "plt.title(\"AD $(mm^2/s)$\")\n",
    "\n",
    "plt.subplot(2, 2, 3).set_axis_off()\n",
    "plt.imshow(np.rot90(RD[..., 0]), cmap='gray', vmin=0, vmax=3e-3)\n",
    "plt.colorbar()\n",
    "plt.title(\"RD $(mm^2/s)$\")\n",
    "\n",
    "plt.subplot(2, 2, 4).set_axis_off()\n",
    "plt.imshow(np.rot90(FA[..., 0]), cmap='gray', vmin=0, vmax=1)\n",
    "plt.colorbar()\n",
    "plt.title(\"FA\")\n",
    "\n",
    "plt.show()"
   ]
  },
  {
   "cell_type": "markdown",
   "metadata": {},
   "source": [
    "Dipy can also be used to produce a colour coded FA maps. In addition of indicating the anisotropy degree by the colour level intensity, these maps provide the information of the main direction of the diffusion tensor according to the following colour coding standard:\n",
    "\n",
    "1) red indicates that diffusion is higher on right-left directions\n",
    "\n",
    "2) green indicates that diffusion is higher on anterior-posterior directions\n",
    "\n",
    "3) blue indicates that diffusion is higher on inferior-superior directions\n",
    "\n",
    "The information about the main direction of the diffusion tensor can be retrieved from the diffusion tensor eigenvectors which is saved in \"dti_fit\" attribute \"evecs\". The colour coded FA map is produced in the following way:"
   ]
  },
  {
   "cell_type": "code",
   "execution_count": null,
   "metadata": {},
   "outputs": [],
   "source": [
    "from dipy.reconst.dti import color_fa\n",
    "import numpy as np\n",
    "\n",
    "FA = np.clip(FA, 0, 1)  # Just to ensure that FA values are between 0 and 1\n",
    "colored_FA = color_fa(FA, dti_fit.evecs)\n",
    "\n",
    "plt.figure(figsize=(9, 7))\n",
    "plt.subplot(1, 1, 1).set_axis_off()\n",
    "plt.imshow(np.rot90(colored_FA[:,:, 0]))\n",
    "plt.title(\"Color coded FA\")"
   ]
  },
  {
   "cell_type": "markdown",
   "metadata": {},
   "source": [
    "### Saving data"
   ]
  },
  {
   "cell_type": "markdown",
   "metadata": {},
   "source": [
    "Now that you processed the standard DTI metrics, you can saved them as NIFTI files using Dipy's save_nifti function. Here, we choose to save the DTI metrics in float32."
   ]
  },
  {
   "cell_type": "code",
   "execution_count": null,
   "metadata": {},
   "outputs": [],
   "source": [
    "from dipy.io.image import save_nifti\n",
    "import numpy as np\n",
    "\n",
    "save_nifti('tensor_md.nii.gz', MD.astype(np.float32), affine)\n",
    "save_nifti('tensor_ad.nii.gz', AD.astype(np.float32), affine)\n",
    "save_nifti('tensor_rd.nii.gz', RD.astype(np.float32), affine)\n",
    "save_nifti('tensor_fa.nii.gz', FA.astype(np.float32), affine)"
   ]
  },
  {
   "cell_type": "markdown",
   "metadata": {},
   "source": [
    "### Plotting the Ellipsoids (Optional)\n",
    "\n",
    "If you have fury installed, you can use Dipy to visuallize the DTI's diffusion tensor ellipsoids.\n",
    "\n",
    "1) For visualization proposes, we will plot the ellipsoids on the following smaller rectangular area of the axial slice. This zoomed area is shown below."
   ]
  },
  {
   "cell_type": "code",
   "execution_count": null,
   "metadata": {},
   "outputs": [],
   "source": [
    "import numpy as np\n",
    "\n",
    "plt.figure(figsize=(9, 7))\n",
    "plt.subplot(1, 1, 1).set_axis_off()\n",
    "plt.imshow(np.rot90(colored_FA[30:, 50:, 0]))\n",
    "plt.title(\"Color coded FA\")"
   ]
  },
  {
   "cell_type": "markdown",
   "metadata": {},
   "source": [
    "2) Below is the code for visuallizing the DTI's diffusion tensor ellipsoids."
   ]
  },
  {
   "cell_type": "code",
   "execution_count": null,
   "metadata": {},
   "outputs": [],
   "source": [
    "from dipy.data import get_sphere\n",
    "sphere = get_sphere('repulsion724')\n",
    "\n",
    "from dipy.viz import window, actor\n",
    "\n",
    "# Enables/disables interactive visualization\n",
    "interactive = True\n",
    "\n",
    "scene = window.Scene()\n",
    "\n",
    "evals = dti_fit.evals[30:, 50:, ...]\n",
    "evecs = dti_fit.evecs[30:, 50:, ...]\n",
    "\n",
    "cfa = colored_FA[30:, 50:, ...]\n",
    "cfa /= cfa.max()\n",
    "\n",
    "scene.add(actor.tensor_slicer(evals, evecs, scalar_colors=cfa, sphere=sphere, scale=0.7))\n",
    "\n",
    "print('Saving illustration as tensor_ellipsoids.png')\n",
    "window.record(scene, n_frames=1, out_path='tensor_ellipsoids.png', size=(600, 600))\n",
    "if interactive:\n",
    "    window.show(scene)"
   ]
  },
  {
   "cell_type": "code",
   "execution_count": null,
   "metadata": {},
   "outputs": [],
   "source": []
  }
 ],
 "metadata": {
  "kernelspec": {
   "display_name": "Python 3",
   "language": "python",
   "name": "python3"
  },
  "language_info": {
   "codemirror_mode": {
    "name": "ipython",
    "version": 3
   },
   "file_extension": ".py",
   "mimetype": "text/x-python",
   "name": "python",
   "nbconvert_exporter": "python",
   "pygments_lexer": "ipython3",
   "version": "3.8.5"
  }
 },
 "nbformat": 4,
 "nbformat_minor": 4
}
